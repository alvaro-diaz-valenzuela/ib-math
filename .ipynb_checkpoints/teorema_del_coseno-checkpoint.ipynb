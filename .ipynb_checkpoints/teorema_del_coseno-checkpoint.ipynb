{
 "cells": [
  {
   "cell_type": "markdown",
   "metadata": {},
   "source": [
    "# Teorema del Coseno"
   ]
  },
  {
   "cell_type": "code",
   "execution_count": 3,
   "metadata": {
    "ExecuteTime": {
     "end_time": "2020-09-23T01:46:18.811407Z",
     "start_time": "2020-09-23T01:46:18.807169Z"
    }
   },
   "outputs": [],
   "source": [
    "from IPython.display import Image\n",
    "from IPython.core.display import HTML\n",
    "import math"
   ]
  },
  {
   "cell_type": "code",
   "execution_count": 2,
   "metadata": {
    "ExecuteTime": {
     "end_time": "2020-09-23T01:40:30.419179Z",
     "start_time": "2020-09-23T01:40:30.407335Z"
    }
   },
   "outputs": [
    {
     "data": {
      "text/html": [
       "<img src=\"01_teorema_del_coseno.png\" width=\"900\" height=\"720\"/>"
      ],
      "text/plain": [
       "<IPython.core.display.Image object>"
      ]
     },
     "execution_count": 2,
     "metadata": {},
     "output_type": "execute_result"
    }
   ],
   "source": [
    "Image(url=\"01_teorema_del_coseno.png\", width=900, height=720)"
   ]
  },
  {
   "cell_type": "code",
   "execution_count": 15,
   "metadata": {
    "ExecuteTime": {
     "end_time": "2020-09-23T02:00:17.108559Z",
     "start_time": "2020-09-23T02:00:17.097541Z"
    }
   },
   "outputs": [
    {
     "name": "stdout",
     "output_type": "stream",
     "text": [
      "alpha: 42.1264\n",
      "beta: 111.3107\n",
      "gamma: 26.5628\n",
      "gamma2: 26.5628\n"
     ]
    }
   ],
   "source": [
    "# Valores de los lados\n",
    "a = 18\n",
    "b = 25\n",
    "c = 12\n",
    "\n",
    "# Para alpha\n",
    "cos_alpha = (b**2 + c**2 - a**2) / (2*b*c)\n",
    "alpha = math.acos(cos_alpha) # El valor del ángulo está en radianes\n",
    "alpha = math.degrees(alpha)  # Ahora lo convertimos a grados\n",
    "print(f'alpha: {alpha:.4f}')\n",
    "\n",
    "# Para beta\n",
    "cos_beta = (a**2 + c**2 - b**2) / (2*a*c)\n",
    "beta = math.acos(cos_beta) # El valor del ángulo está en radianes\n",
    "beta = math.degrees(beta)  # Ahora lo convertimos a grados\n",
    "print(f'beta: {beta:.4f}')\n",
    "\n",
    "# Para gamma\n",
    "cos_gamma = (a**2 + b**2 - c**2) / (2*a*b)\n",
    "gamma = math.acos(cos_gamma) # El valor del ángulo está en radianes\n",
    "gamma = math.degrees(gamma)  # Ahora lo convertimos a grados\n",
    "print(f'gamma: {gamma:.4f}')\n",
    "\n",
    "# Alternativamente\n",
    "print(f'gamma2: {180 - alpha - beta:.4f}')"
   ]
  },
  {
   "cell_type": "code",
   "execution_count": 17,
   "metadata": {
    "ExecuteTime": {
     "end_time": "2020-09-23T02:14:07.299819Z",
     "start_time": "2020-09-23T02:14:07.292242Z"
    }
   },
   "outputs": [
    {
     "data": {
      "text/html": [
       "<img src=\"02_teorema_del_coseno.png\" width=\"900\" height=\"720\"/>"
      ],
      "text/plain": [
       "<IPython.core.display.Image object>"
      ]
     },
     "execution_count": 17,
     "metadata": {},
     "output_type": "execute_result"
    }
   ],
   "source": [
    "Image(url=\"02_teorema_del_coseno.png\", width=900, height=720)"
   ]
  },
  {
   "cell_type": "code",
   "execution_count": 23,
   "metadata": {
    "ExecuteTime": {
     "end_time": "2020-09-23T02:25:50.305332Z",
     "start_time": "2020-09-23T02:25:50.289585Z"
    }
   },
   "outputs": [
    {
     "name": "stdout",
     "output_type": "stream",
     "text": [
      "a): 3.84\n",
      "b): 7.99\n",
      "c): 9.28\n",
      "d): 28.79\n",
      "e): 3.38\n",
      "f): 14.17\n"
     ]
    }
   ],
   "source": [
    "## La fórmula para el otro lado va a ser siempre:\n",
    "def otro_lado(alpha, b, c):\n",
    "    alpha = math.radians(alpha)\n",
    "    a = math.sqrt(b**2 + c**2 - 2*b*c*math.cos(alpha))\n",
    "    return a\n",
    "\n",
    "# a\n",
    "alpha = 50\n",
    "b, c = 3, 5\n",
    "print(f'a): {otro_lado(alpha, b, c):.2f}')\n",
    "\n",
    "# b\n",
    "alpha = 64\n",
    "b, c = 8, 7\n",
    "print(f'b): {otro_lado(alpha, b, c):.2f}')\n",
    "\n",
    "# c\n",
    "alpha = 27\n",
    "b, c = 17, 10\n",
    "print(f'c): {otro_lado(alpha, b, c):.2f}')\n",
    "\n",
    "# d\n",
    "alpha = 105\n",
    "b, c = 15, 21\n",
    "print(f'd): {otro_lado(alpha, b, c):.2f}')\n",
    "\n",
    "# e\n",
    "alpha = 32\n",
    "b, c = 4.8, 6.3\n",
    "print(f'e): {otro_lado(alpha, b, c):.2f}')\n",
    "\n",
    "# f\n",
    "alpha = 72\n",
    "b, c = 6.2, 14.8\n",
    "print(f'f): {otro_lado(alpha, b, c):.2f}')"
   ]
  },
  {
   "cell_type": "code",
   "execution_count": 24,
   "metadata": {
    "ExecuteTime": {
     "end_time": "2020-09-23T02:28:41.491145Z",
     "start_time": "2020-09-23T02:28:41.485610Z"
    }
   },
   "outputs": [
    {
     "data": {
      "text/html": [
       "<img src=\"03_teorema_del_coseno.png\" width=\"900\" height=\"720\"/>"
      ],
      "text/plain": [
       "<IPython.core.display.Image object>"
      ]
     },
     "execution_count": 24,
     "metadata": {},
     "output_type": "execute_result"
    }
   ],
   "source": [
    "Image(url=\"03_teorema_del_coseno.png\", width=900, height=720)"
   ]
  },
  {
   "cell_type": "code",
   "execution_count": 28,
   "metadata": {
    "ExecuteTime": {
     "end_time": "2020-09-23T02:37:39.001212Z",
     "start_time": "2020-09-23T02:37:38.990303Z"
    }
   },
   "outputs": [
    {
     "name": "stdout",
     "output_type": "stream",
     "text": [
      "a): 82.8\n",
      "b): 54.8\n",
      "c): 98.2\n"
     ]
    }
   ],
   "source": [
    "# La fórmula para el ángulo va a ser siempre\n",
    "def angulo(adj1, adj2, opuesto):\n",
    "    cos_theta = (adj1**2 + adj2**2 - opuesto**2) / (2*adj1*adj2)\n",
    "    theta = math.acos(cos_theta) # El ángulo está en radianes\n",
    "    theta = math.degrees(theta)  # Lo convertimos a grados\n",
    "    return theta\n",
    "\n",
    "# a\n",
    "adj1, adj2, opuesto = 4, 5, 6\n",
    "print(f'a): {angulo(adj1, adj2, opuesto):.1f}')\n",
    "\n",
    "# b\n",
    "adj1, adj2, opuesto = 11, 6, 9\n",
    "print(f'b): {angulo(adj1, adj2, opuesto):.1f}')\n",
    "\n",
    "# c\n",
    "adj1, adj2, opuesto = 10, 7, 13\n",
    "print(f'c): {angulo(adj1, adj2, opuesto):.1f}')"
   ]
  },
  {
   "cell_type": "code",
   "execution_count": 30,
   "metadata": {
    "ExecuteTime": {
     "end_time": "2020-09-23T02:41:35.300917Z",
     "start_time": "2020-09-23T02:41:35.294742Z"
    }
   },
   "outputs": [
    {
     "data": {
      "text/html": [
       "<img src=\"04_teorema_del_coseno.png\" width=\"450\" height=\"360\"/>"
      ],
      "text/plain": [
       "<IPython.core.display.Image object>"
      ]
     },
     "execution_count": 30,
     "metadata": {},
     "output_type": "execute_result"
    }
   ],
   "source": [
    "Image(url=\"04_teorema_del_coseno.png\", width=450, height=360)"
   ]
  },
  {
   "cell_type": "code",
   "execution_count": 34,
   "metadata": {
    "ExecuteTime": {
     "end_time": "2020-09-23T02:46:26.167393Z",
     "start_time": "2020-09-23T02:46:26.160287Z"
    }
   },
   "outputs": [
    {
     "name": "stdout",
     "output_type": "stream",
     "text": [
      "A: 52.0\n",
      "B: 59.3\n",
      "C: 68.7\n"
     ]
    }
   ],
   "source": [
    "# Podemos usar la fórmula ángulo que definimos en el ejercicio anterior.\n",
    "\n",
    "# Ángulo en A\n",
    "adj1, adj2, opuesto = 12, 13, 11\n",
    "print(f'A: {angulo(adj1, adj2, opuesto):.1f}')\n",
    "\n",
    "# Ángulo en B\n",
    "adj1, adj2, opuesto = 13, 11, 12\n",
    "print(f'B: {angulo(adj1, adj2, opuesto):.1f}')\n",
    "\n",
    "# Ángulo en C\n",
    "adj1, adj2, opuesto = 12, 11, 13\n",
    "print(f'C: {angulo(adj1, adj2, opuesto):.1f}')"
   ]
  },
  {
   "cell_type": "code",
   "execution_count": 38,
   "metadata": {
    "ExecuteTime": {
     "end_time": "2020-09-23T02:51:57.182255Z",
     "start_time": "2020-09-23T02:51:57.173954Z"
    }
   },
   "outputs": [
    {
     "data": {
      "text/html": [
       "<img src=\"05_teorema_del_coseno.png\" width=\"540\" height=\"432\"/>"
      ],
      "text/plain": [
       "<IPython.core.display.Image object>"
      ]
     },
     "execution_count": 38,
     "metadata": {},
     "output_type": "execute_result"
    }
   ],
   "source": [
    "Image(url=\"05_teorema_del_coseno.png\", width=450*1.2, height=360*1.2)"
   ]
  },
  {
   "cell_type": "code",
   "execution_count": 41,
   "metadata": {
    "ExecuteTime": {
     "end_time": "2020-09-23T02:55:00.694692Z",
     "start_time": "2020-09-23T02:55:00.690465Z"
    }
   },
   "outputs": [
    {
     "name": "stdout",
     "output_type": "stream",
     "text": [
      "PQR: 111.8\n"
     ]
    }
   ],
   "source": [
    "# Para el ángulo PQR volvemos a aplicar la fórmula angulo.\n",
    "PQR = angulo(5, 7, 10)\n",
    "print(f'PQR: {PQR:.1f}')"
   ]
  },
  {
   "cell_type": "code",
   "execution_count": null,
   "metadata": {},
   "outputs": [],
   "source": [
    "# Sabemos que:\n",
    "# QPR + QRP = 180 - PQR\n",
    "# y también que\n",
    "\n",
    "# Por lo tanto si h es la altura desde P\n",
    "# math.sin(cPQR) = h / 5 y por lo tanto\n",
    "h = math.sin(cPQR) * 5"
   ]
  }
 ],
 "metadata": {
  "kernelspec": {
   "display_name": "Python 3",
   "language": "python",
   "name": "python3"
  },
  "language_info": {
   "codemirror_mode": {
    "name": "ipython",
    "version": 3
   },
   "file_extension": ".py",
   "mimetype": "text/x-python",
   "name": "python",
   "nbconvert_exporter": "python",
   "pygments_lexer": "ipython3",
   "version": "3.7.3"
  },
  "toc": {
   "base_numbering": 1,
   "nav_menu": {},
   "number_sections": true,
   "sideBar": true,
   "skip_h1_title": true,
   "title_cell": "Table of Contents",
   "title_sidebar": "Contents",
   "toc_cell": false,
   "toc_position": {},
   "toc_section_display": true,
   "toc_window_display": true
  }
 },
 "nbformat": 4,
 "nbformat_minor": 4
}
